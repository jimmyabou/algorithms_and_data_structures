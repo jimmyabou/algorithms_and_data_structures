{
 "cells": [
  {
   "cell_type": "markdown",
   "metadata": {},
   "source": [
    "# Coding Problems\n",
    "\n",
    "## Objective\n",
    "\n",
    "This assignment aims to demonstrate how to study a data structures or algorithms question in depth to prepare for an industry coding interview. Leetcode is a popular coding practice site that many use to practice for technical interviews. Like behavioral interviews, it's important to practice and keep your skills sharp.\n",
    "\n",
    "## Group Size\n",
    "\n",
    "Please complete this individually.\n",
    "\n",
    "## Part 1:\n",
    "\n",
    "_*You will be assigned one of three problems based of your first name. Execute the code below, and that will tell you your assigned problem. Include the output as part of your submission (do not clear the output). The problems are based-off problems from Leetcode.*_\n"
   ]
  },
  {
   "cell_type": "code",
   "execution_count": 6,
   "metadata": {},
   "outputs": [
    {
     "name": "stdout",
     "output_type": "stream",
     "text": [
      "1\n"
     ]
    }
   ],
   "source": [
    "print((hash('Jamil') % 3) + 1)"
   ]
  },
  {
   "cell_type": "markdown",
   "metadata": {},
   "source": [
    "<details>\n",
    "  <summary>Question 1</summary>\n",
    "\n",
    "  # Question One: Check Duplicates in Tree\n",
    "\n",
    "  Given the `root` of a binary tree, check whether it is contains a duplicate value. If a duplicate exists, return the duplicate value. If there are multiple duplicates, return the one with the closest distance to the root. If no duplicate exists, return -1.\n",
    "\n",
    "  ## Examples\n",
    "\n",
    "  ### Example 1\n",
    "\n",
    "  ![](./images/q1_ex1.png)\n",
    "\n",
    "  Input: `root = [1, 2, 2, 3, 5, 6, 7]` *What traversal method is this?*\n",
    "\n",
    "  BFS (or Level Order Traversal) \n",
    "\n",
    "  Output: 2\n",
    "\n",
    "  ### Example 2\n",
    "\n",
    "  ![](./images/q1_ex2.png)\n",
    "\n",
    "  Input: `root = [1, 10, 2, 3, 10, 12, 12]`\n",
    "\n",
    "  Output: 10\n",
    "\n",
    "  ### Example 3\n",
    "\n",
    "  ![](./images/q1_ex3.png)\n",
    "\n",
    "  Input: `root = [10, 9, 8, 7]`\n",
    "\n",
    "  Output: -1\n",
    "\n",
    "</details>\n",
    "\n",
    "#### Starter Code for Question 1"
   ]
  },
  {
   "cell_type": "code",
   "execution_count": 68,
   "metadata": {},
   "outputs": [
    {
     "name": "stdout",
     "output_type": "stream",
     "text": [
      "2\n",
      "10\n",
      "-1\n"
     ]
    }
   ],
   "source": [
    "# Definition for a binary tree node.\n",
    "class TreeNode(object):\n",
    "  def __init__(self, val = 0, left = None, right = None):\n",
    "        self.val = val\n",
    "        self.left = left\n",
    "        self.right = right\n",
    "\n",
    "root = TreeNode(1)\n",
    "root.left = TreeNode(2)\n",
    "root.right = TreeNode(2)\n",
    "root.left.left = TreeNode(3)\n",
    "root.left.right = TreeNode(5)\n",
    "root.right.left = TreeNode(6)\n",
    "root.right.right = TreeNode(7)\n",
    "\n",
    "root1 = TreeNode(1)\n",
    "root1.left = TreeNode(10)\n",
    "root1.right = TreeNode(2)\n",
    "root1.left.left = TreeNode(3)\n",
    "root1.left.right = TreeNode(10)\n",
    "root1.right.left = TreeNode(12)\n",
    "root1.right.right = TreeNode(12)\n",
    "\n",
    "root2 = TreeNode(10)\n",
    "root2.left = TreeNode(9)\n",
    "root2.right = TreeNode(7)\n",
    "root2.left.left = TreeNode(8)\n",
    "\n",
    "\n",
    "def is_duplicate(root: TreeNode) -> int:\n",
    "    visited_nodes = set()\n",
    "    BDF_nodes = [root]\n",
    "    while BDF_nodes:\n",
    "        node = BDF_nodes.pop(0) \n",
    "        if node.val in visited_nodes:\n",
    "            return node.val\n",
    "        visited_nodes.add(node.val)\n",
    "        if node.left:\n",
    "            BDF_nodes.append(node.left)\n",
    "        if node.right:\n",
    "            BDF_nodes.append(node.right)\n",
    "    return -1\n",
    "\n",
    "print(is_duplicate(root)) \n",
    "print(is_duplicate(root1)) \n",
    "print(is_duplicate(root2)) \n"
   ]
  },
  {
   "cell_type": "markdown",
   "metadata": {},
   "source": [
    "<details>\n",
    "  <summary>Question 2</summary>\n",
    "\n",
    "  # Question Two: Path to Leaves\n",
    "\n",
    "  Given the `root` of a binary tree, return all root to leaf paths in any order.\n",
    "\n",
    "  ## Examples\n",
    "\n",
    "  ### Example 1\n",
    "\n",
    "  ![](./images/q1_ex1.png)\n",
    "\n",
    "  Input: `root = [1, 2, 2, 3, 5, 6, 7]` *What traversal method is this?*\n",
    "\n",
    "  Output: [[1, 2, 3], [1, 2, 5], [1, 2, 6], [1, 2, 7]]\n",
    "\n",
    "  ### Example 2\n",
    "\n",
    "  ![](./images/q1_ex3.png)\n",
    "\n",
    "  Input: `root = [10, 9, 7, 8]`\n",
    "\n",
    "  Output: [[10, 7], [10, 9, 8]]\n",
    "\n",
    "</details>\n",
    "\n",
    "#### Starter Code for Question 2"
   ]
  },
  {
   "cell_type": "code",
   "execution_count": null,
   "metadata": {},
   "outputs": [],
   "source": [
    "# Definition for a binary tree node.\n",
    "# class TreeNode(object):\n",
    "#     def __init__(self, val = 0, left = None, right = None):\n",
    "#         self.val = val\n",
    "#         self.left = left\n",
    "#         self.right = right\n",
    "def bt_path(root: TreeNode) -> List[List[int]]:\n",
    "  # TODO"
   ]
  },
  {
   "cell_type": "markdown",
   "metadata": {},
   "source": [
    "<details>\n",
    "  <summary>Question 3</summary>\n",
    "\n",
    "  # Question Three: Missing Number in Range\n",
    " \n",
    "  You are given a list containing `n` integers in the range `[0, n]`. Return a list of numbers that are missing from the range `[0, n]` of the array. If there is no missing number, return -1. Note, all the integers in the list may not be unique.\n",
    "  \n",
    "  ## Examples\n",
    "\n",
    "  ### Example 1\n",
    "\n",
    "  Input: `lst = [0, 2]`\n",
    "\n",
    "  Output: [1]\n",
    "\n",
    "  ### Example 2\n",
    "\n",
    "  Input: `lst = [5, 0, 1]`\n",
    "\n",
    "  Output: [2, 3, 4]\n",
    "\n",
    "  ### Example 3\n",
    "\n",
    "  Input: `lst = [6, 8, 2, 3, 5, 7, 0, 1, 10]`\n",
    "\n",
    "  Output: [4, 9]\n",
    "\n",
    "</details>\n",
    "\n",
    "#### Starter Code for Question 3\n"
   ]
  },
  {
   "cell_type": "code",
   "execution_count": null,
   "metadata": {},
   "outputs": [],
   "source": [
    "def missing_num(nums: List) -> int:\n",
    "  # TODO"
   ]
  },
  {
   "cell_type": "markdown",
   "metadata": {},
   "source": [
    "\n",
    "## Part 2:\n",
    "\n",
    "-   Paraphrase the problem in your own words\n"
   ]
  },
  {
   "cell_type": "code",
   "execution_count": 60,
   "metadata": {},
   "outputs": [
    {
     "data": {
      "text/plain": [
       "' given a binary tree, determine if there is a duplicate value between the nodes.\\n    If a duplicate is encountered, return the first match closest to the root node using the BFS traversal approach.\\n    If there are no duplicates, return -1.\\n'"
      ]
     },
     "execution_count": 60,
     "metadata": {},
     "output_type": "execute_result"
    }
   ],
   "source": [
    "# Your answer here\n",
    "''' given a binary tree, determine if there is a duplicate value between the nodes.\n",
    "    If a duplicate is encountered, return the first match closest to the root node using the BFS traversal approach.\n",
    "    If there are no duplicates, return -1.\n",
    "'''"
   ]
  },
  {
   "cell_type": "markdown",
   "metadata": {},
   "source": [
    "- In this .ipynb file, there are examples that illustrate how the code should work (the examples provided above). Create 2 new examples for the question you have been assigned, that demonstrate you understand the problem. For question 1 and 2, you don't need to create the tree demonstration, just the input and output.\n"
   ]
  },
  {
   "cell_type": "code",
   "execution_count": 61,
   "metadata": {},
   "outputs": [],
   "source": [
    "# Your answer here\n",
    "root3 = TreeNode(1)\n",
    "root3.left = TreeNode(6)\n",
    "root3.right = TreeNode(2)\n",
    "root3.left.left = TreeNode(3)\n",
    "root3.left.right = TreeNode(13)\n",
    "root3.right.left = TreeNode(13)\n",
    "root3.right.right = TreeNode(12)\n",
    "\n",
    "root4 = TreeNode(1)\n",
    "root4.left = TreeNode(15)\n",
    "root4.right = TreeNode(12)\n",
    "root4.left.left = TreeNode(3)\n",
    "root4.left.right = TreeNode(15)\n",
    "root4.right.left = TreeNode(12)\n",
    "root4.right.right = TreeNode(12)"
   ]
  },
  {
   "cell_type": "markdown",
   "metadata": {},
   "source": [
    "\n",
    "-   Code the solution to your assigned problem in Python (code chunk). Try to find the best time and space complexity solution!\n"
   ]
  },
  {
   "cell_type": "code",
   "execution_count": 63,
   "metadata": {},
   "outputs": [
    {
     "name": "stdout",
     "output_type": "stream",
     "text": [
      "13\n",
      "15\n"
     ]
    }
   ],
   "source": [
    "# Your answer here\n",
    "def is_duplicate(root: TreeNode) -> int:\n",
    "    visited_nodes = set()\n",
    "    BDF_nodes = [root]\n",
    "    while BDF_nodes:\n",
    "        node = BDF_nodes.pop(0) \n",
    "        if node.val in visited_nodes:\n",
    "            return node.val\n",
    "        visited_nodes.add(node.val)\n",
    "        if node.left:\n",
    "            BDF_nodes.append(node.left)\n",
    "        if node.right:\n",
    "            BDF_nodes.append(node.right)\n",
    "    return -1\n",
    "\n",
    "print(is_duplicate(root3)) \n",
    "print(is_duplicate(root4)) \n",
    "    "
   ]
  },
  {
   "cell_type": "markdown",
   "metadata": {},
   "source": [
    "\n",
    "-   Explain why your solution works\n"
   ]
  },
  {
   "cell_type": "code",
   "execution_count": 64,
   "metadata": {},
   "outputs": [
    {
     "data": {
      "text/plain": [
       "'The solution works by using BFS to explore the tree level by level, using a list to store visited node values and ensuring that the closest duplicate to the root is found first .'"
      ]
     },
     "execution_count": 64,
     "metadata": {},
     "output_type": "execute_result"
    }
   ],
   "source": [
    "# Your answer here\n",
    "'''The solution works by using BFS to explore the tree level by level, using a list to store visited node values and ensuring that the closest duplicate to the root is found first .'''"
   ]
  },
  {
   "cell_type": "markdown",
   "metadata": {},
   "source": [
    "\n",
    "-   Explain the problem’s time and space complexity\n"
   ]
  },
  {
   "cell_type": "code",
   "execution_count": 65,
   "metadata": {},
   "outputs": [
    {
     "data": {
      "text/plain": [
       "' time complexity O(n2) in the worst scenario\\n    the while loop runs once for each node in the tree which yields O(n).\\n    for the set add and search opperations have the time complexity is O(1).\\n    for the pop(0) list operation it is O(n) but because we are doing this for every element in every while iteration it becomes O(n2)\\n    space complexity O(n) in the worst scenario\\n    In the worst case, where there are no duplicates, the set will store n unique node values O(n).\\n    and the list will store n/2 nodes in the worst case which leads to O(n) since /2 is a constant.\\n    adding both yields O(n)\\n    '"
      ]
     },
     "execution_count": 65,
     "metadata": {},
     "output_type": "execute_result"
    }
   ],
   "source": [
    "# Your answer here\n",
    "''' time complexity O(n2) in the worst scenario\n",
    "    the while loop runs once for each node in the tree which yields O(n).\n",
    "    for the set add and search opperations have the time complexity is O(1).\n",
    "    for the pop(0) list operation it is O(n) but because we are doing this for every element in every while iteration it becomes O(n2)\n",
    "    space complexity O(n) in the worst scenario\n",
    "    In the worst case, where there are no duplicates, the set will store n unique node values O(n).\n",
    "    and the list will store n/2 nodes in the worst case which leads to O(n) since /2 is a constant.\n",
    "    adding both yields O(n)\n",
    "    '''"
   ]
  },
  {
   "cell_type": "markdown",
   "metadata": {},
   "source": [
    "\n",
    "-   Explain the thinking to an alternative solution (no coding required, but a classmate reading this should be able to code it up based off your text)\n"
   ]
  },
  {
   "cell_type": "code",
   "execution_count": 66,
   "metadata": {},
   "outputs": [
    {
     "data": {
      "text/plain": [
       "\"Use BFS for level order traversal.\\n   use a list to store the values of the nodes we visited so we can check them for duplicates\\n   use a list to load the nodes' values in BFS order starting from the root \\n   use a while loop to iterate through the list as we keep appending new nodes in BFS approach\\n   pop the first node value and check its value against the values visited in the visited list\\n   if the value exists we return this value and exit the while loop\\n   if the value does not exist load the children nodes onto the list queue and repeat the process \\n   untill a duplicate is found or -1 is returned.\\n\""
      ]
     },
     "execution_count": 66,
     "metadata": {},
     "output_type": "execute_result"
    }
   ],
   "source": [
    "# Your answer here\n",
    "'''Use BFS for level order traversal.\n",
    "   use a list to store the values of the nodes we visited so we can check them for duplicates\n",
    "   use a list to load the nodes' values in BFS order starting from the root \n",
    "   use a while loop to iterate through the list as we keep appending new nodes in BFS approach\n",
    "   pop the first node value and check its value against the values visited in the visited list\n",
    "   if the value exists we return this value and exit the while loop\n",
    "   if the value does not exist load the children nodes onto the list queue and repeat the process \n",
    "   untill a duplicate is found or -1 is returned.\n",
    "'''"
   ]
  },
  {
   "cell_type": "markdown",
   "metadata": {},
   "source": [
    "## Evaluation Criteria\n",
    "\n",
    "-   Problem is accurately stated\n",
    "\n",
    "-   Two examples are correct and easily understandable\n",
    "\n",
    "-   Correctness, time, and space complexity of the coding solution\n",
    "\n",
    "-   Clarity in explaining why the solution works, its time and space complexity\n",
    "\n",
    "-   Clarity in the proposal to the alternative solution"
   ]
  },
  {
   "cell_type": "markdown",
   "metadata": {},
   "source": [
    "## Submission Information\n",
    "\n",
    "🚨 **Please review our [Assignment Submission Guide](https://github.com/UofT-DSI/onboarding/blob/main/onboarding_documents/submissions.md)** 🚨 for detailed instructions on how to format, branch, and submit your work. Following these guidelines is crucial for your submissions to be evaluated correctly.\n",
    "\n",
    "### Submission Parameters:\n",
    "* Submission Due Date: `HH:MM AM/PM - DD/MM/YYYY`\n",
    "* The branch name for your repo should be: `assignment-1`\n",
    "* What to submit for this assignment:\n",
    "    * This Jupyter Notebook (assignment_1.ipynb) should be populated and should be the only change in your pull request.\n",
    "* What the pull request link should look like for this assignment: `https://github.com/<your_github_username>/algorithms_and_data_structures/pull/<pr_id>`\n",
    "    * Open a private window in your browser. Copy and paste the link to your pull request into the address bar. Make sure you can see your pull request properly. This helps the technical facilitator and learning support staff review your submission easily.\n",
    "\n",
    "Checklist:\n",
    "- [ ] Create a branch called `assignment-1`.\n",
    "- [ ] Ensure that the repository is public.\n",
    "- [ ] Review [the PR description guidelines](https://github.com/UofT-DSI/onboarding/blob/main/onboarding_documents/submissions.md#guidelines-for-pull-request-descriptions) and adhere to them.\n",
    "- [ ] Verify that the link is accessible in a private browser window.\n",
    "\n",
    "If you encounter any difficulties or have questions, please don't hesitate to reach out to our team via our Slack at `#cohort-3-help`. Our Technical Facilitators and Learning Support staff are here to help you navigate any challenges."
   ]
  }
 ],
 "metadata": {
  "kernelspec": {
   "display_name": "Python 3",
   "language": "python",
   "name": "python3"
  },
  "language_info": {
   "codemirror_mode": {
    "name": "ipython",
    "version": 3
   },
   "file_extension": ".py",
   "mimetype": "text/x-python",
   "name": "python",
   "nbconvert_exporter": "python",
   "pygments_lexer": "ipython3",
   "version": "3.9.15"
  }
 },
 "nbformat": 4,
 "nbformat_minor": 2
}
