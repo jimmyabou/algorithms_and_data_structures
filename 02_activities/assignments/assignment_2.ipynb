{
 "cells": [
  {
   "cell_type": "markdown",
   "metadata": {},
   "source": [
    "# Practice Interview\n",
    "\n",
    "## Objective\n",
    "\n",
    "_*The partner assignment aims to provide participants with the opportunity to practice coding in an interview context. You will analyze your partner's Assignment 1. Moreover, code reviews are common practice in a software development team. This assignment should give you a taste of the code review process.*_\n",
    "\n",
    "## Group Size\n",
    "\n",
    "Each group should have 2 people. You will be assigned a partner\n",
    "\n",
    "## Part 1:\n",
    "\n",
    "You and your partner must share each other's Assignment 1 submission."
   ]
  },
  {
   "cell_type": "markdown",
   "metadata": {},
   "source": [
    "\n",
    "## Part 2:\n",
    "\n",
    "Create a Jupyter Notebook, create 6 of the following headings, and complete the following for your partner's assignment 1:\n",
    "\n",
    "-   Paraphrase the problem in your own words.\n"
   ]
  },
  {
   "cell_type": "code",
   "execution_count": null,
   "metadata": {},
   "outputs": [],
   "source": [
    "# Your answer here\n",
    "'''Given a list containing an integer sequence ranging from 0 to n, find the missing numbers within this range. Return the missing numbers in a list. If there are no missing numbers in the sequence, return -1. Note that the list may contain duplicate numbers.\n",
    "'''"
   ]
  },
  {
   "cell_type": "markdown",
   "metadata": {},
   "source": [
    "\n",
    "-   Create 1 new example that demonstrates you understand the problem. Trace/walkthrough 1 example that your partner made and explain it.\n"
   ]
  },
  {
   "cell_type": "code",
   "execution_count": null,
   "metadata": {},
   "outputs": [],
   "source": [
    "# Your answer here\n",
    "list = [6,7,2,0,2,5] \n",
    "output = [1,3,4]\n",
    "\n",
    "#example provided by my assignment partner \n",
    "#Example 1 Input: lst = [5, 1, 2] Output: [0, 3, 4] \n",
    "# since the list should start from 0 to the maximum value in the list. \n",
    "# the list has 5 as the maximum values between 0 and 5 are [0, 3, 4]"
   ]
  },
  {
   "cell_type": "markdown",
   "metadata": {},
   "source": [
    "\n",
    "-   Copy the solution your partner wrote. \n"
   ]
  },
  {
   "cell_type": "code",
   "execution_count": null,
   "metadata": {},
   "outputs": [],
   "source": [
    "# Your answer here\n",
    "def missing_num(nums: list) -> int:\n",
    "    # return -1 if the list is empty\n",
    "    if len(nums) == 0:\n",
    "        return -1\n",
    "    \n",
    "    # set the minimum value as 0 and determine the maximum value in the list\n",
    "    min_val = 0\n",
    "    max_val = max(nums)\n",
    "    \n",
    "    # create a list to store the missing numbers\n",
    "    missing_list = []\n",
    "\n",
    "    # for loop to idenitfy the missing numbers and append them to the newly created list\n",
    "    for i in range(min_val, max_val):\n",
    "        if i not in nums:\n",
    "            missing_list.append(i)\n",
    "\n",
    "    # return -1 if there are no missing value else return the list\n",
    "    if len(missing_list) == 0:\n",
    "        return -1\n",
    "    else:\n",
    "        return missing_list"
   ]
  },
  {
   "cell_type": "markdown",
   "metadata": {},
   "source": [
    "\n",
    "-   Explain why their solution works in your own words.\n"
   ]
  },
  {
   "cell_type": "code",
   "execution_count": null,
   "metadata": {},
   "outputs": [],
   "source": [
    "# Your answer here\n",
    "'''The solution works as follows: it first selects the highest value in the list, with the lowest value always being 0. \n",
    "Then, it iterates through the values from 0 to the highest value, assigning each to `i`. \n",
    "During this iteration, each value is checked against the provided list. \n",
    "If a value is not in the list, it is appended to an output list that holds all the missing values. \n",
    "After the loop ends, the length of the missing values list is checked. \n",
    "If it is empty, indicating there are no missing numbers, -1 is returned. \n",
    "Otherwise, the missing values list is returned.''' "
   ]
  },
  {
   "cell_type": "markdown",
   "metadata": {},
   "source": [
    "\n",
    "-   Explain the problem’s time and space complexity in your own words.\n"
   ]
  },
  {
   "cell_type": "code",
   "execution_count": null,
   "metadata": {},
   "outputs": [],
   "source": [
    "# Your answer here\n",
    "''' The time complexity is O(n²). The dominant factor is the nested loop that runs n times, \n",
    "where each iteration involves checking if the value i is missing in the provided list, an O(n) operation. \n",
    "This creates a nested operation O(n*n), resulting in O(n²).\n",
    "\n",
    "The space complexity is O(n). This is because we use a list to store the missing numbers, \n",
    "In the worst-case scenario, the missing_list could store up to n - 2 elements (excluding the minimum and maximum values if they are not missing).\n",
    "we disregard constants and focus on the term that grows the fastest with input size.\n",
    "Therefore, we simplify O(n - 2) to O(n)\n",
    "'''"
   ]
  },
  {
   "cell_type": "markdown",
   "metadata": {},
   "source": [
    "\n",
    "-   Critique your partner's solution, including explanation, and if there is anything that should be adjusted.\n"
   ]
  },
  {
   "cell_type": "code",
   "execution_count": null,
   "metadata": {},
   "outputs": [],
   "source": [
    "# Your answer here\n",
    "'''the solution effectively handles edge cases and identifies missing numbers within the specified range.\n",
    " However, the presence of duplicates in the provided list can be unnecessary and can be eliminated by converting the list to a set. \n",
    " This conversion also improves the time complexity from O(n^2) to O(n) due to the efficient O(1) average time complexity for membership checks in sets.'''"
   ]
  },
  {
   "cell_type": "markdown",
   "metadata": {},
   "source": [
    "\n",
    "## Part 3:\n",
    "\n",
    "Please write a 200 word reflection documenting your process from assignment 1, and your presentation and review experience with your partner at the bottom of the Jupyter Notebook under a new heading \"Reflection.\" Again, export this Notebook as pdf.\n"
   ]
  },
  {
   "cell_type": "markdown",
   "metadata": {},
   "source": [
    "### Reflection"
   ]
  },
  {
   "cell_type": "code",
   "execution_count": null,
   "metadata": {},
   "outputs": [],
   "source": [
    "# Your answer here\n",
    "'''In Assignment 1, I tackled the problem of identifying duplicate values in a binary tree and locating the closest duplicate to the root node. \n",
    "Utilizing the breadth-first search (BFS) approach ensured that duplicates closest to the root were found first. \n",
    "I employed a queue for level-order traversal and a set to track previously encountered values, leveraging the O(1) average time complexity of set operations for efficient duplicate checking. \n",
    "During implementation, I realized that using a list instead of a set would have significantly impacted performance, due to the O(n) time complexity for list membership checks.\n",
    "This highlighted the importance of choosing the appropriate data structure for specific operations. I also tested edge cases, such as trees with no duplicates. \n",
    "Reflecting on this, I learned how the choice of data structure profoundly affects performance and time complexity, reinforcing the importance of selecting the right data structures and algorithms for optimizing problem-solving efficiency.\n",
    "\n",
    "During the review of my partner’s solution for finding missing values in a list, I noted their method of iterating through the range from the minimum to the maximum value to identify gaps. \n",
    "They used a list to store missing numbers but faced O(n²) time complexity due to the list’s O(n) time complexity for each membership test. \n",
    "I suggested switching to a set for checking missing values to enhance performance, as set operations have an average time complexity of O(1). \n",
    "This adjustment would improve efficiency, especially with larger datasets. \n",
    "The review underscored the critical role of selecting the right data structure to optimize performance, illustrating how data structure choice significantly impacts overall algorithm speed.\n",
    "'''"
   ]
  },
  {
   "cell_type": "markdown",
   "metadata": {},
   "source": [
    "\n",
    "## Evaluation Criteria\n",
    "\n",
    "We are looking for the similar points as Assignment 1\n",
    "\n",
    "-   Problem is accurately stated\n",
    "\n",
    "-   New example is correct and easily understandable\n",
    "\n",
    "-   Correctness, time, and space complexity of the coding solution\n",
    "\n",
    "-   Clarity in explaining why the solution works, its time and space complexity\n",
    "\n",
    "-   Quality of critique of your partner's assignment, if necessary\n"
   ]
  },
  {
   "cell_type": "markdown",
   "metadata": {},
   "source": [
    "## Submission Information\n",
    "\n",
    "🚨 **Please review our [Assignment Submission Guide](https://github.com/UofT-DSI/onboarding/blob/main/onboarding_documents/submissions.md)** 🚨 for detailed instructions on how to format, branch, and submit your work. Following these guidelines is crucial for your submissions to be evaluated correctly.\n",
    "\n",
    "### Submission Parameters:\n",
    "* Submission Due Date: `HH:MM AM/PM - DD/MM/YYYY`\n",
    "* The branch name for your repo should be: `assignment-2`\n",
    "* What to submit for this assignment:\n",
    "    * This Jupyter Notebook (assignment_2.ipynb) should be populated and should be the only change in your pull request.\n",
    "* What the pull request link should look like for this assignment: `https://github.com/<your_github_username>/algorithms_and_data_structures/pull/<pr_id>`\n",
    "    * Open a private window in your browser. Copy and paste the link to your pull request into the address bar. Make sure you can see your pull request properly. This helps the technical facilitator and learning support staff review your submission easily.\n",
    "\n",
    "Checklist:\n",
    "- [ ] Created a branch with the correct naming convention.\n",
    "- [ ] Ensured that the repository is public.\n",
    "- [ ] Reviewed the PR description guidelines and adhered to them.\n",
    "- [ ] Verify that the link is accessible in a private browser window.\n",
    "\n",
    "If you encounter any difficulties or have questions, please don't hesitate to reach out to our team via our Slack at `#cohort-3-help`. Our Technical Facilitators and Learning Support staff are here to help you navigate any challenges.\n"
   ]
  }
 ],
 "metadata": {
  "language_info": {
   "name": "python"
  }
 },
 "nbformat": 4,
 "nbformat_minor": 2
}
